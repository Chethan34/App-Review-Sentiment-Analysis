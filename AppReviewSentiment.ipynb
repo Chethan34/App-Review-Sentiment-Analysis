{
 "cells": [
  {
   "cell_type": "code",
   "execution_count": 1,
   "id": "e0af1c0f-d66e-4e6a-a10c-c084ac14f48d",
   "metadata": {},
   "outputs": [],
   "source": [
    "#App Review Sentiment Analysis"
   ]
  },
  {
   "cell_type": "code",
   "execution_count": 2,
   "id": "a38eb595-64a1-4726-bdc4-ce88b51b293f",
   "metadata": {},
   "outputs": [
    {
     "ename": "ModuleNotFoundError",
     "evalue": "No module named 'textblob'",
     "output_type": "error",
     "traceback": [
      "\u001b[1;31m---------------------------------------------------------------------------\u001b[0m",
      "\u001b[1;31mModuleNotFoundError\u001b[0m                       Traceback (most recent call last)",
      "Cell \u001b[1;32mIn[2], line 12\u001b[0m\n\u001b[0;32m     10\u001b[0m \u001b[38;5;28;01mimport\u001b[39;00m \u001b[38;5;21;01mmissingno\u001b[39;00m \u001b[38;5;28;01mas\u001b[39;00m \u001b[38;5;21;01mmsno\u001b[39;00m\n\u001b[0;32m     11\u001b[0m \u001b[38;5;28;01mimport\u001b[39;00m \u001b[38;5;21;01mpickle\u001b[39;00m\n\u001b[1;32m---> 12\u001b[0m \u001b[38;5;28;01mfrom\u001b[39;00m \u001b[38;5;21;01mtextblob\u001b[39;00m \u001b[38;5;28;01mimport\u001b[39;00m TextBlob\n",
      "\u001b[1;31mModuleNotFoundError\u001b[0m: No module named 'textblob'"
     ]
    }
   ],
   "source": [
    "#imports\n",
    "import pandas as pd\n",
    "import seaborn as sns\n",
    "import missingno as msno\n",
    "import matplotlib.pyplot as plt\n",
    "from plotly.subplots import make_subplots\n",
    "import plotly.graph_objects as go\n",
    "from plotly.offline import iplot\n",
    "import plotly.express as px\n",
    "import missingno as msno\n",
    "import pickle\n",
    "from textblob import TextBlob"
   ]
  },
  {
   "cell_type": "code",
   "execution_count": null,
   "id": "5a1e03fd-7cbb-4e18-a1b4-d5e64607cc75",
   "metadata": {},
   "outputs": [],
   "source": [
    "#data loading..\n",
    "data = pd.read_csv(r\"C:\\Users\\Chethan\\Downloads\\archive\\threads_reviews.csv\")"
   ]
  },
  {
   "cell_type": "code",
   "execution_count": null,
   "id": "cffce31c-c303-45cb-b447-f1a27b163002",
   "metadata": {},
   "outputs": [],
   "source": [
    "#Step 1: Data Exploration\n",
    "data.head()"
   ]
  },
  {
   "cell_type": "code",
   "execution_count": null,
   "id": "1821f285-379b-435f-a5eb-adb41d41a27f",
   "metadata": {},
   "outputs": [],
   "source": [
    "#checking rows and columns\n",
    "data.shape"
   ]
  },
  {
   "cell_type": "code",
   "execution_count": null,
   "id": "20732a6f-daa2-4b2b-b263-f9274adfddb2",
   "metadata": {},
   "outputs": [],
   "source": [
    "#checking any missing values\n",
    "data.isnull().sum().sort_values(ascending = False)"
   ]
  },
  {
   "cell_type": "code",
   "execution_count": null,
   "id": "5cd3bb2c-479c-4728-8c4d-d0a3838e2e2b",
   "metadata": {},
   "outputs": [],
   "source": [
    "#checking info\n",
    "data.info"
   ]
  },
  {
   "cell_type": "code",
   "execution_count": null,
   "id": "1ac16acd-bea9-4040-93cc-c4cba2046566",
   "metadata": {},
   "outputs": [],
   "source": [
    "#checking unique values in dataset\n",
    "data.nunique()"
   ]
  },
  {
   "cell_type": "code",
   "execution_count": null,
   "id": "a93682a6-703c-4abf-a0aa-2953d269d3f1",
   "metadata": {},
   "outputs": [],
   "source": [
    "#Step 2: Data Preparation:\n",
    "# Convert review_date to datetime format\n",
    "data['review_date'] = pd.to_datetime(data['review_date'], format='%d-%m-%Y %H:%M')\n",
    "\n",
    "# Extract the various components\n",
    "data['review_date_year'] = data['review_date'].dt.strftime('%Y')\n",
    "data['review_date_month'] = data['review_date'].dt.strftime('%b')  # Corrected to '%b' for abbreviated month name\n",
    "data['review_date_day'] = data['review_date'].dt.strftime('%-d')\n",
    "data['review_date_dayweek_name'] = data['review_date'].dt.strftime('%a')\n",
    "data['review_date_hour'] = data['review_date'].dt.strftime('%H')\n",
    "data['review_date_daytime'] = data['review_date'].dt.strftime('%p')\n",
    "\n",
    "data.head()\n"
   ]
  },
  {
   "cell_type": "code",
   "execution_count": null,
   "id": "fbb42399-eeaf-4d14-8637-6020c5661657",
   "metadata": {},
   "outputs": [],
   "source": [
    "data.dtypes"
   ]
  },
  {
   "cell_type": "code",
   "execution_count": null,
   "id": "cf6ce8d5-d871-4858-ab43-043c42a34610",
   "metadata": {},
   "outputs": [],
   "source": [
    "#Performing EDA:"
   ]
  },
  {
   "cell_type": "code",
   "execution_count": null,
   "id": "68ad7b90-1664-4191-84b1-11b655c7dbb1",
   "metadata": {},
   "outputs": [],
   "source": [
    "# Plot the missing values matrix\n",
    "msno.matrix(data)\n",
    "plt.title('Distribution of Missing Values in the dataset', fontsize=30, fontstyle='oblique')\n",
    "plt.show()\n"
   ]
  },
  {
   "cell_type": "code",
   "execution_count": null,
   "id": "a77a77bd-0fe7-432b-b9e2-a98c5ecc8dc0",
   "metadata": {},
   "outputs": [],
   "source": [
    "data['rating'].value_counts()"
   ]
  },
  {
   "cell_type": "code",
   "execution_count": null,
   "id": "4ef839de-fb9c-4190-af5c-7a2919a12110",
   "metadata": {},
   "outputs": [],
   "source": [
    "#Let's check Overall Rating Distribution:\n",
    "\n",
    "rating_counts = data['rating'].value_counts()\n",
    "\n",
    "# Creating subplots: 1 row, 2 columns\n",
    "fig = make_subplots(rows=1, cols=2, subplot_titles=('Rating Distribution (Bar Plot)', 'Rating Distribution (Pie Chart)'), specs=[[{\"type\": \"xy\"}, {\"type\": \"domain\"}]])\n",
    "\n",
    "# Adding bar plot with text labels\n",
    "fig.add_trace(go.Bar(x=rating_counts.index, y=rating_counts.values, marker_color=['skyblue', 'lightgreen', 'yellow', 'orange', 'red'],\n",
    "                     text=rating_counts.values, textposition='outside'), row=1, col=1)\n",
    "\n",
    "# Adding pie chart\n",
    "fig.add_trace(go.Pie(labels=rating_counts.index, values=rating_counts.values, marker_colors=['skyblue', 'lightgreen', 'yellow', 'orange', 'red'], pull=[0, 0, 0, 0, 0.1]), row=1, col=2)\n",
    "\n",
    "#overall layout controller\n",
    "fig.update_layout(\n",
    "    title='Rating Distribution',\n",
    "    title_x=0.5,\n",
    "    showlegend=False,\n",
    "    width=1200,  \n",
    "    height=600,  \n",
    "    font=dict(size=16) \n",
    ")\n",
    "\n",
    "fig.show()"
   ]
  },
  {
   "cell_type": "code",
   "execution_count": null,
   "id": "78273d36-91d1-4ff8-bfbd-d215adbd741e",
   "metadata": {},
   "outputs": [],
   "source": [
    "data['source'].value_counts()"
   ]
  },
  {
   "cell_type": "code",
   "execution_count": null,
   "id": "9d33ad78-a6e5-4489-b0eb-9fc90b3bceab",
   "metadata": {},
   "outputs": [],
   "source": [
    "#Let's check for source distribution between Google Play and App Store in the dataset:\n",
    "\n",
    "# Getting the counts of each source\n",
    "source_counts = data['source'].value_counts()\n",
    "\n",
    "# Creating subplots: 1 row, 2 columns\n",
    "fig = make_subplots(rows=1, cols=2, subplot_titles=('Source Distribution (Bar Plot)', 'Source Distribution (Pie Chart)'), specs=[[{\"type\": \"xy\"}, {\"type\": \"domain\"}]])\n",
    "\n",
    "# Adding bar plot with text labels\n",
    "fig.add_trace(go.Bar(x=source_counts.index, y=source_counts.values, marker_color=['skyblue', 'lightgreen'],\n",
    "                     text=source_counts.values, textposition='outside'), row=1, col=1)\n",
    "\n",
    "# Adding pie chart\n",
    "fig.add_trace(go.Pie(labels=source_counts.index, values=source_counts.values, marker_colors=['skyblue', 'lightgreen'], pull=[0, 0.1]), row=1, col=2)\n",
    "\n",
    "# Overall layout controller\n",
    "fig.update_layout(\n",
    "    title='Source Distribution',\n",
    "    title_x=0.5,\n",
    "    showlegend=False,\n",
    "    width=1200,  \n",
    "    height=600,  \n",
    "    font=dict(size=16) \n",
    ")\n",
    "\n",
    "fig.show()\n"
   ]
  },
  {
   "cell_type": "code",
   "execution_count": null,
   "id": "191ebacb-9a3e-4378-b469-f4b0bfd7372d",
   "metadata": {},
   "outputs": [],
   "source": [
    "#Let's perform Number of rating each month"
   ]
  },
  {
   "cell_type": "code",
   "execution_count": null,
   "id": "33143e58-3408-4200-8d47-b7d59bfe2167",
   "metadata": {},
   "outputs": [],
   "source": [
    "data['review_date_year'].value_counts()"
   ]
  },
  {
   "cell_type": "code",
   "execution_count": null,
   "id": "d83c6027-74c9-4f3e-82a5-9782c878b0f3",
   "metadata": {},
   "outputs": [],
   "source": [
    "data['review_date_month'].value_counts().reset_index()"
   ]
  },
  {
   "cell_type": "code",
   "execution_count": null,
   "id": "cadf779a-59c7-4cd3-a8a7-061b97930c70",
   "metadata": {},
   "outputs": [],
   "source": [
    "monthly_counts = data['review_date_month'].value_counts().reset_index()\n",
    "monthly_counts.columns = ['review_date_month', 'count']  \n",
    "\n",
    "# layout controller\n",
    "fig = px.bar(monthly_counts, \n",
    "             x='review_date_month', \n",
    "             y='count', \n",
    "             title=\"Number of Ratings Each Month\", \n",
    "             labels={'review_date_month': 'Month', 'count': 'Rating Frequency'},\n",
    "             template='plotly_dark',\n",
    "             color='count',  \n",
    "             color_continuous_scale=px.colors.sequential.Viridis,\n",
    "             width=600,  \n",
    "             height=400) \n",
    "#plot\n",
    "fig.show()"
   ]
  },
  {
   "cell_type": "code",
   "execution_count": null,
   "id": "16ffd5f2-8148-440b-8bcb-fc731a56ddf5",
   "metadata": {},
   "outputs": [],
   "source": [
    "data['review_date_day'].value_counts()"
   ]
  },
  {
   "cell_type": "code",
   "execution_count": null,
   "id": "7ef7698f-009a-4c36-ba7a-525bbb4bc823",
   "metadata": {},
   "outputs": [],
   "source": [
    "#converting review_date_day to datetime\n",
    "data['review_date_day'] = pd.to_datetime(data['review_date_day'], errors='coerce')\n",
    "\n",
    "# Calculate the count of ratings for each day\n",
    "daily_counts = data['review_date_day'].dt.date.value_counts().reset_index()\n",
    "daily_counts.columns = ['review_date_day', 'count']  \n",
    "\n",
    "# layout\n",
    "fig = px.bar(daily_counts, \n",
    "             x='review_date_day', \n",
    "             y='count', \n",
    "             title=\"Number of Ratings Each Day\", \n",
    "             labels={'review_date_day': 'Date', 'count': 'Rating Frequency'},\n",
    "             template='plotly_dark',\n",
    "             color='count', \n",
    "             color_continuous_scale=px.colors.sequential.Viridis,\n",
    "             width=800,  \n",
    "             height=400)  \n",
    "# Plotting\n",
    "fig.show()"
   ]
  },
  {
   "cell_type": "code",
   "execution_count": null,
   "id": "3c8110b5-7882-424f-bb01-4e7ebc82ed52",
   "metadata": {},
   "outputs": [],
   "source": [
    "data['review_date_dayweek_name'].value_counts()"
   ]
  },
  {
   "cell_type": "code",
   "execution_count": null,
   "id": "34e26521-5f2d-4e0b-bd8a-7113748aa1dd",
   "metadata": {},
   "outputs": [],
   "source": [
    "# Getting the counts of each day of the week\n",
    "day_counts = data['review_date_dayweek_name'].value_counts()\n",
    "\n",
    "# Creating subplots: 1 row, 2 columns\n",
    "fig = make_subplots(rows=1, cols=2, subplot_titles=('Day of the Week Distribution (Bar Plot)', 'Day of the Week Distribution (Pie Chart)'), specs=[[{\"type\": \"xy\"}, {\"type\": \"domain\"}]])\n",
    "\n",
    "# Adding bar plot with text labels\n",
    "fig.add_trace(go.Bar(x=day_counts.index, y=day_counts.values, marker_color=['skyblue', 'lightgreen', 'salmon', 'gold', 'lightcoral', 'lightpink', 'lightyellow'],\n",
    "                     text=day_counts.values, textposition='outside'), row=1, col=1)\n",
    "\n",
    "# Adding pie chart\n",
    "fig.add_trace(go.Pie(labels=day_counts.index, values=day_counts.values, marker_colors=['skyblue', 'lightgreen', 'salmon', 'gold', 'lightcoral', 'lightpink', 'lightyellow'], pull=[0, 0.1]), row=1, col=2)\n",
    "\n",
    "# Overall layout controller\n",
    "fig.update_layout(\n",
    "    title='Day of the Week Distribution',\n",
    "    title_x=0.5,\n",
    "    showlegend=False,\n",
    "    width=1200,  \n",
    "    height=600,  \n",
    "    font=dict(size=16) \n",
    ")\n",
    "\n",
    "# Show the plot\n",
    "fig.show()"
   ]
  },
  {
   "cell_type": "code",
   "execution_count": null,
   "id": "79a3d892-06c2-44c9-8630-f1bd5a69876a",
   "metadata": {},
   "outputs": [],
   "source": [
    "data['review_date_hour'].value_counts()"
   ]
  },
  {
   "cell_type": "code",
   "execution_count": null,
   "id": "8c0875ad-8049-4e55-9de1-c06315edd3fc",
   "metadata": {},
   "outputs": [],
   "source": [
    "hour_counts = data['review_date_hour'].value_counts().sort_index().reset_index()\n",
    "hour_counts.columns = ['review_date_hour', 'count']  # Renaming columns\n",
    "\n",
    "# Create a bar plot for the number of ratings each hour\n",
    "fig = px.bar(hour_counts, \n",
    "             x='review_date_hour', \n",
    "             y='count', \n",
    "             title=\"Number of Ratings Each Hour\", \n",
    "             labels={'review_date_hour': 'Hour', 'count': 'Rating Frequency'},\n",
    "             template='plotly_dark',\n",
    "             color='count', \n",
    "             color_continuous_scale=px.colors.sequential.Viridis,\n",
    "             width=800,  \n",
    "             height=400)  \n",
    "\n",
    "# Show the plot\n",
    "fig.show()"
   ]
  },
  {
   "cell_type": "code",
   "execution_count": null,
   "id": "1088d9a2-791a-4b5a-9694-b92333f374d7",
   "metadata": {},
   "outputs": [],
   "source": [
    "data['review_date_daytime'].value_counts()"
   ]
  },
  {
   "cell_type": "code",
   "execution_count": null,
   "id": "eed17ea7-2b23-47ed-8d9d-0738bf9901fa",
   "metadata": {},
   "outputs": [],
   "source": [
    "# Getting the counts of AM and PM\n",
    "daytime_counts = data['review_date_daytime'].value_counts()\n",
    "\n",
    "# Creating subplots: 1 row, 2 columns\n",
    "fig = make_subplots(rows=1, cols=2, subplot_titles=('Daytime Distribution (Bar Plot)', 'Daytime Distribution (Pie Chart)'), specs=[[{\"type\": \"xy\"}, {\"type\": \"domain\"}]])\n",
    "\n",
    "# Adding bar plot with text labels\n",
    "fig.add_trace(go.Bar(x=daytime_counts.index, y=daytime_counts.values, \n",
    "                     marker_color=['lightblue', 'lightgreen'],\n",
    "                     text=daytime_counts.values, textposition='outside'), row=1, col=1)\n",
    "\n",
    "# Adding pie chart\n",
    "fig.add_trace(go.Pie(labels=daytime_counts.index, values=daytime_counts.values, \n",
    "                     marker_colors=['lightblue', 'lightgreen'], pull=[0, 0.1]), row=1, col=2)\n",
    "\n",
    "# Overall layout controller\n",
    "fig.update_layout(\n",
    "    title='Daytime Distribution (AM/PM)',\n",
    "    title_x=0.5,\n",
    "    showlegend=False,\n",
    "    width=1200,  \n",
    "    height=600,  \n",
    "    font=dict(size=16) \n",
    ")\n",
    "\n",
    "# Show the plot\n",
    "fig.show()"
   ]
  },
  {
   "cell_type": "code",
   "execution_count": null,
   "id": "03515555-9565-4d49-b8af-8dc3f10fd5bb",
   "metadata": {},
   "outputs": [],
   "source": [
    "google_play = data[data['source'] == 'Google Play']\n",
    "print(f\"Threads App Average Rating on Google Play is {google_play['rating'].mean():.2f} stars\")"
   ]
  },
  {
   "cell_type": "code",
   "execution_count": null,
   "id": "03fa1ed7-c793-4088-bcc1-d1bc376b0315",
   "metadata": {},
   "outputs": [],
   "source": [
    "app_store = data[data['source'] == 'App Store']\n",
    "print(f\"Threads App Average Rating on App Store is {app_store['rating'].mean():.2f} stars\")"
   ]
  },
  {
   "cell_type": "code",
   "execution_count": null,
   "id": "b2e9a6e4-4f6c-413e-abf0-1e9e435eb0ba",
   "metadata": {},
   "outputs": [],
   "source": [
    "fig = px.histogram(data, \n",
    "                   x=\"source\", \n",
    "                   color=\"rating\", \n",
    "                   title=\"Ratings Distribution Per Source\",\n",
    "                   width=600,  # Set the width of the plot\n",
    "                   height=400)  # Set the height of the plot\n",
    "\n",
    "# Show the plot\n",
    "fig.show()"
   ]
  },
  {
   "cell_type": "code",
   "execution_count": null,
   "id": "bdb444a4-2781-4e78-a5e5-21588f2231ef",
   "metadata": {},
   "outputs": [],
   "source": [
    "px.histogram(data, x=\"review_date_daytime\", color=\"rating\", title=\"Ratings Distrbution Per Day Time\") "
   ]
  },
  {
   "cell_type": "code",
   "execution_count": null,
   "id": "99d9550c-ad04-407b-8e00-b1b2b5dca3fb",
   "metadata": {},
   "outputs": [],
   "source": [
    "px.histogram(data, x=\"review_date_dayweek_name\", color=\"rating\", title=\"Ratings Distrbution Per day week\") "
   ]
  },
  {
   "cell_type": "code",
   "execution_count": null,
   "id": "d2a894b0-5e82-425d-a1fe-c6171b2b6a7e",
   "metadata": {},
   "outputs": [],
   "source": [
    "px.histogram(data, x=\"review_date_month\", color=\"rating\", title = 'Ratings Distrbution Per Month') "
   ]
  },
  {
   "cell_type": "code",
   "execution_count": null,
   "id": "34b53931-a713-4c16-9398-4b48ace2b658",
   "metadata": {},
   "outputs": [],
   "source": [
    "data['rating'] = data['rating'].astype('int32')\n",
    "data['rating'] = data['rating'].replace([1,2], 'bad')\n",
    "data['rating'] = data['rating'].replace(3, 'neutral')\n",
    "data['rating'] = data['rating'].replace([4,5], 'good')"
   ]
  },
  {
   "cell_type": "code",
   "execution_count": null,
   "id": "a40a0c43-5171-455e-aad4-f74334fc6664",
   "metadata": {},
   "outputs": [],
   "source": [
    "data['rating'].value_counts()"
   ]
  },
  {
   "cell_type": "code",
   "execution_count": 3,
   "id": "44a60589-0ea4-41eb-b23f-9bb223ea5b68",
   "metadata": {},
   "outputs": [
    {
     "ename": "NameError",
     "evalue": "name 'data' is not defined",
     "output_type": "error",
     "traceback": [
      "\u001b[1;31m---------------------------------------------------------------------------\u001b[0m",
      "\u001b[1;31mNameError\u001b[0m                                 Traceback (most recent call last)",
      "Cell \u001b[1;32mIn[3], line 13\u001b[0m\n\u001b[0;32m     10\u001b[0m         \u001b[38;5;28;01mreturn\u001b[39;00m \u001b[38;5;124m'\u001b[39m\u001b[38;5;124mbad\u001b[39m\u001b[38;5;124m'\u001b[39m\n\u001b[0;32m     12\u001b[0m \u001b[38;5;66;03m# Apply the sentiment classification\u001b[39;00m\n\u001b[1;32m---> 13\u001b[0m data[\u001b[38;5;124m'\u001b[39m\u001b[38;5;124mrating\u001b[39m\u001b[38;5;124m'\u001b[39m] \u001b[38;5;241m=\u001b[39m data[\u001b[38;5;124m'\u001b[39m\u001b[38;5;124mreview\u001b[39m\u001b[38;5;124m'\u001b[39m]\u001b[38;5;241m.\u001b[39mapply(classify_sentiment)\n\u001b[0;32m     15\u001b[0m \u001b[38;5;66;03m# Getting the counts of each rating category\u001b[39;00m\n\u001b[0;32m     16\u001b[0m rating_counts \u001b[38;5;241m=\u001b[39m data[\u001b[38;5;124m'\u001b[39m\u001b[38;5;124mrating\u001b[39m\u001b[38;5;124m'\u001b[39m]\u001b[38;5;241m.\u001b[39mvalue_counts()\n",
      "\u001b[1;31mNameError\u001b[0m: name 'data' is not defined"
     ]
    }
   ],
   "source": [
    "# Function to classify sentiment\n",
    "def classify_sentiment(review):\n",
    "    analysis = TextBlob(review)\n",
    "    # Classify based on polarity\n",
    "    if analysis.sentiment.polarity > 0:\n",
    "        return 'good'\n",
    "    elif analysis.sentiment.polarity == 0:\n",
    "        return 'neutral'\n",
    "    else:\n",
    "        return 'bad'\n",
    "\n",
    "# Apply the sentiment classification\n",
    "data['rating'] = data['review'].apply(classify_sentiment)\n",
    "\n",
    "# Getting the counts of each rating category\n",
    "rating_counts = data['rating'].value_counts()\n",
    "\n",
    "# Creating subplots: 1 row, 2 columns\n",
    "fig = make_subplots(rows=1, cols=2, subplot_titles=('Rating Distribution (Bar Plot)', 'Rating Distribution (Pie Chart)'), specs=[[{\"type\": \"xy\"}, {\"type\": \"domain\"}]])\n",
    "\n",
    "# Adding bar plot with text labels\n",
    "fig.add_trace(go.Bar(x=rating_counts.index, y=rating_counts.values, \n",
    "                     marker_color=['lightblue', 'lightgreen', 'salmon'],\n",
    "                     text=rating_counts.values, textposition='outside'), row=1, col=1)\n",
    "\n",
    "# Adding pie chart\n",
    "fig.add_trace(go.Pie(labels=rating_counts.index, values=rating_counts.values, \n",
    "                     marker_colors=['lightblue', 'lightgreen', 'salmon'], pull=[0, 0.1]), row=1, col=2)\n",
    "\n",
    "# Overall layout controller\n",
    "fig.update_layout(\n",
    "    title='Rating Distribution',\n",
    "    title_x=0.5,\n",
    "    showlegend=False,\n",
    "    width=1200,  \n",
    "    height=600,  \n",
    "    font=dict(size=16) \n",
    ")\n",
    "\n",
    "# Show the plot\n",
    "fig.show()"
   ]
  },
  {
   "cell_type": "code",
   "execution_count": null,
   "id": "a8b3e04c-a91b-419b-aa8a-19f7b7172388",
   "metadata": {},
   "outputs": [],
   "source": []
  }
 ],
 "metadata": {
  "kernelspec": {
   "display_name": "Python 3 (ipykernel)",
   "language": "python",
   "name": "python3"
  },
  "language_info": {
   "codemirror_mode": {
    "name": "ipython",
    "version": 3
   },
   "file_extension": ".py",
   "mimetype": "text/x-python",
   "name": "python",
   "nbconvert_exporter": "python",
   "pygments_lexer": "ipython3",
   "version": "3.11.7"
  }
 },
 "nbformat": 4,
 "nbformat_minor": 5
}
