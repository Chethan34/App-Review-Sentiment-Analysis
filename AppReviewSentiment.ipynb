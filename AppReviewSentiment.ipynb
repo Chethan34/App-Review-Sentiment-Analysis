{
 "cells": [
  {
   "cell_type": "code",
   "execution_count": 1,
   "id": "e0af1c0f-d66e-4e6a-a10c-c084ac14f48d",
   "metadata": {},
   "outputs": [],
   "source": [
    "#App Review Sentiment Analysis"
   ]
  },
  {
   "cell_type": "code",
   "execution_count": 2,
   "id": "a38eb595-64a1-4726-bdc4-ce88b51b293f",
   "metadata": {},
   "outputs": [],
   "source": [
    "#imports\n",
    "import pandas as pd\n",
    "import seaborn as sns\n",
    "import matplotlib.pyplot as plt\n",
    "import plotly.graph_objects as go\n",
    "from plotly.subplots import make_subplots"
   ]
  },
  {
   "cell_type": "code",
   "execution_count": 3,
   "id": "5a1e03fd-7cbb-4e18-a1b4-d5e64607cc75",
   "metadata": {},
   "outputs": [],
   "source": [
    "#data loading..\n",
    "data = pd.read_csv(r\"C:\\Users\\Chethan\\Downloads\\archive\\threads_reviews.csv\")"
   ]
  },
  {
   "cell_type": "code",
   "execution_count": 4,
   "id": "cffce31c-c303-45cb-b447-f1a27b163002",
   "metadata": {},
   "outputs": [
    {
     "data": {
      "text/html": [
       "<div>\n",
       "<style scoped>\n",
       "    .dataframe tbody tr th:only-of-type {\n",
       "        vertical-align: middle;\n",
       "    }\n",
       "\n",
       "    .dataframe tbody tr th {\n",
       "        vertical-align: top;\n",
       "    }\n",
       "\n",
       "    .dataframe thead th {\n",
       "        text-align: right;\n",
       "    }\n",
       "</style>\n",
       "<table border=\"1\" class=\"dataframe\">\n",
       "  <thead>\n",
       "    <tr style=\"text-align: right;\">\n",
       "      <th></th>\n",
       "      <th>source</th>\n",
       "      <th>review_description</th>\n",
       "      <th>rating</th>\n",
       "      <th>review_date</th>\n",
       "    </tr>\n",
       "  </thead>\n",
       "  <tbody>\n",
       "    <tr>\n",
       "      <th>0</th>\n",
       "      <td>Google Play</td>\n",
       "      <td>Very good app for Android phone and me</td>\n",
       "      <td>5</td>\n",
       "      <td>27-08-2023 10:31</td>\n",
       "    </tr>\n",
       "    <tr>\n",
       "      <th>1</th>\n",
       "      <td>Google Play</td>\n",
       "      <td>Sl👍👍👍👍</td>\n",
       "      <td>5</td>\n",
       "      <td>27-08-2023 10:28</td>\n",
       "    </tr>\n",
       "    <tr>\n",
       "      <th>2</th>\n",
       "      <td>Google Play</td>\n",
       "      <td>Best app</td>\n",
       "      <td>5</td>\n",
       "      <td>27-08-2023 9:47</td>\n",
       "    </tr>\n",
       "    <tr>\n",
       "      <th>3</th>\n",
       "      <td>Google Play</td>\n",
       "      <td>Gatiya app</td>\n",
       "      <td>1</td>\n",
       "      <td>27-08-2023 9:13</td>\n",
       "    </tr>\n",
       "    <tr>\n",
       "      <th>4</th>\n",
       "      <td>Google Play</td>\n",
       "      <td>Lit bruv</td>\n",
       "      <td>5</td>\n",
       "      <td>27-08-2023 9:00</td>\n",
       "    </tr>\n",
       "  </tbody>\n",
       "</table>\n",
       "</div>"
      ],
      "text/plain": [
       "        source                      review_description  rating  \\\n",
       "0  Google Play  Very good app for Android phone and me       5   \n",
       "1  Google Play                                  Sl👍👍👍👍       5   \n",
       "2  Google Play                                Best app       5   \n",
       "3  Google Play                              Gatiya app       1   \n",
       "4  Google Play                                Lit bruv       5   \n",
       "\n",
       "        review_date  \n",
       "0  27-08-2023 10:31  \n",
       "1  27-08-2023 10:28  \n",
       "2   27-08-2023 9:47  \n",
       "3   27-08-2023 9:13  \n",
       "4   27-08-2023 9:00  "
      ]
     },
     "execution_count": 4,
     "metadata": {},
     "output_type": "execute_result"
    }
   ],
   "source": [
    "#Step 1: Data Exploration\n",
    "data.head()"
   ]
  },
  {
   "cell_type": "code",
   "execution_count": 5,
   "id": "1821f285-379b-435f-a5eb-adb41d41a27f",
   "metadata": {},
   "outputs": [
    {
     "data": {
      "text/plain": [
       "(40435, 4)"
      ]
     },
     "execution_count": 5,
     "metadata": {},
     "output_type": "execute_result"
    }
   ],
   "source": [
    "#checking rows and columns\n",
    "data.shape"
   ]
  },
  {
   "cell_type": "code",
   "execution_count": 6,
   "id": "20732a6f-daa2-4b2b-b263-f9274adfddb2",
   "metadata": {},
   "outputs": [
    {
     "data": {
      "text/plain": [
       "source                0\n",
       "review_description    0\n",
       "rating                0\n",
       "review_date           0\n",
       "dtype: int64"
      ]
     },
     "execution_count": 6,
     "metadata": {},
     "output_type": "execute_result"
    }
   ],
   "source": [
    "#checking any missing values\n",
    "data.isnull().sum().sort_values(ascending = False)"
   ]
  },
  {
   "cell_type": "code",
   "execution_count": 7,
   "id": "5cd3bb2c-479c-4728-8c4d-d0a3838e2e2b",
   "metadata": {},
   "outputs": [
    {
     "data": {
      "text/plain": [
       "<bound method DataFrame.info of             source                                 review_description  rating  \\\n",
       "0      Google Play             Very good app for Android phone and me       5   \n",
       "1      Google Play                                             Sl👍👍👍👍       5   \n",
       "2      Google Play                                           Best app       5   \n",
       "3      Google Play                                         Gatiya app       1   \n",
       "4      Google Play                                           Lit bruv       5   \n",
       "...            ...                                                ...     ...   \n",
       "40430    App Store  They don’t let you delete your account once yo...       1   \n",
       "40431    App Store                               Twitter >>>> Threads       1   \n",
       "40432    App Store  Really? Hard to believe. I’m not in Calif., bu...       1   \n",
       "40433    App Store  While the app seems like a good start, it seem...       2   \n",
       "40434    App Store  Been on it one day and it glitches and no one ...       1   \n",
       "\n",
       "            review_date  \n",
       "0      27-08-2023 10:31  \n",
       "1      27-08-2023 10:28  \n",
       "2       27-08-2023 9:47  \n",
       "3       27-08-2023 9:13  \n",
       "4       27-08-2023 9:00  \n",
       "...                 ...  \n",
       "40430   27-08-2023 4:21  \n",
       "40431   27-08-2023 1:23  \n",
       "40432  26-08-2023 20:51  \n",
       "40433  26-08-2023 19:49  \n",
       "40434  26-08-2023 18:49  \n",
       "\n",
       "[40435 rows x 4 columns]>"
      ]
     },
     "execution_count": 7,
     "metadata": {},
     "output_type": "execute_result"
    }
   ],
   "source": [
    "#checking info\n",
    "data.info"
   ]
  },
  {
   "cell_type": "code",
   "execution_count": 8,
   "id": "1ac16acd-bea9-4040-93cc-c4cba2046566",
   "metadata": {},
   "outputs": [
    {
     "data": {
      "text/plain": [
       "source                    2\n",
       "review_description    32894\n",
       "rating                    5\n",
       "review_date           16742\n",
       "dtype: int64"
      ]
     },
     "execution_count": 8,
     "metadata": {},
     "output_type": "execute_result"
    }
   ],
   "source": [
    "#checking unique values in dataset\n",
    "data.nunique()"
   ]
  },
  {
   "cell_type": "code",
   "execution_count": 9,
   "id": "b3d780be-94f1-4a16-9a00-c5ed99b6a4df",
   "metadata": {},
   "outputs": [
    {
     "data": {
      "text/html": [
       "<div>\n",
       "<style scoped>\n",
       "    .dataframe tbody tr th:only-of-type {\n",
       "        vertical-align: middle;\n",
       "    }\n",
       "\n",
       "    .dataframe tbody tr th {\n",
       "        vertical-align: top;\n",
       "    }\n",
       "\n",
       "    .dataframe thead th {\n",
       "        text-align: right;\n",
       "    }\n",
       "</style>\n",
       "<table border=\"1\" class=\"dataframe\">\n",
       "  <thead>\n",
       "    <tr style=\"text-align: right;\">\n",
       "      <th></th>\n",
       "      <th>source</th>\n",
       "      <th>review_description</th>\n",
       "      <th>rating</th>\n",
       "      <th>review_date</th>\n",
       "      <th>review_date_year</th>\n",
       "      <th>review_date_month</th>\n",
       "      <th>review_date_day</th>\n",
       "      <th>review_date_dayweek_name</th>\n",
       "      <th>review_date_hour</th>\n",
       "      <th>review_date_daytime</th>\n",
       "    </tr>\n",
       "  </thead>\n",
       "  <tbody>\n",
       "    <tr>\n",
       "      <th>0</th>\n",
       "      <td>Google Play</td>\n",
       "      <td>Very good app for Android phone and me</td>\n",
       "      <td>5</td>\n",
       "      <td>2023-08-27 10:31:00</td>\n",
       "      <td>2023</td>\n",
       "      <td>Aug</td>\n",
       "      <td>2023-08-27 10:31:00</td>\n",
       "      <td>Sun</td>\n",
       "      <td>10</td>\n",
       "      <td>AM</td>\n",
       "    </tr>\n",
       "    <tr>\n",
       "      <th>1</th>\n",
       "      <td>Google Play</td>\n",
       "      <td>Sl👍👍👍👍</td>\n",
       "      <td>5</td>\n",
       "      <td>2023-08-27 10:28:00</td>\n",
       "      <td>2023</td>\n",
       "      <td>Aug</td>\n",
       "      <td>2023-08-27 10:28:00</td>\n",
       "      <td>Sun</td>\n",
       "      <td>10</td>\n",
       "      <td>AM</td>\n",
       "    </tr>\n",
       "    <tr>\n",
       "      <th>2</th>\n",
       "      <td>Google Play</td>\n",
       "      <td>Best app</td>\n",
       "      <td>5</td>\n",
       "      <td>2023-08-27 09:47:00</td>\n",
       "      <td>2023</td>\n",
       "      <td>Aug</td>\n",
       "      <td>2023-08-27 09:47:00</td>\n",
       "      <td>Sun</td>\n",
       "      <td>09</td>\n",
       "      <td>AM</td>\n",
       "    </tr>\n",
       "    <tr>\n",
       "      <th>3</th>\n",
       "      <td>Google Play</td>\n",
       "      <td>Gatiya app</td>\n",
       "      <td>1</td>\n",
       "      <td>2023-08-27 09:13:00</td>\n",
       "      <td>2023</td>\n",
       "      <td>Aug</td>\n",
       "      <td>2023-08-27 09:13:00</td>\n",
       "      <td>Sun</td>\n",
       "      <td>09</td>\n",
       "      <td>AM</td>\n",
       "    </tr>\n",
       "    <tr>\n",
       "      <th>4</th>\n",
       "      <td>Google Play</td>\n",
       "      <td>Lit bruv</td>\n",
       "      <td>5</td>\n",
       "      <td>2023-08-27 09:00:00</td>\n",
       "      <td>2023</td>\n",
       "      <td>Aug</td>\n",
       "      <td>2023-08-27 09:00:00</td>\n",
       "      <td>Sun</td>\n",
       "      <td>09</td>\n",
       "      <td>AM</td>\n",
       "    </tr>\n",
       "  </tbody>\n",
       "</table>\n",
       "</div>"
      ],
      "text/plain": [
       "        source                      review_description  rating  \\\n",
       "0  Google Play  Very good app for Android phone and me       5   \n",
       "1  Google Play                                  Sl👍👍👍👍       5   \n",
       "2  Google Play                                Best app       5   \n",
       "3  Google Play                              Gatiya app       1   \n",
       "4  Google Play                                Lit bruv       5   \n",
       "\n",
       "          review_date review_date_year review_date_month      review_date_day  \\\n",
       "0 2023-08-27 10:31:00             2023               Aug  2023-08-27 10:31:00   \n",
       "1 2023-08-27 10:28:00             2023               Aug  2023-08-27 10:28:00   \n",
       "2 2023-08-27 09:47:00             2023               Aug  2023-08-27 09:47:00   \n",
       "3 2023-08-27 09:13:00             2023               Aug  2023-08-27 09:13:00   \n",
       "4 2023-08-27 09:00:00             2023               Aug  2023-08-27 09:00:00   \n",
       "\n",
       "  review_date_dayweek_name review_date_hour review_date_daytime  \n",
       "0                      Sun               10                  AM  \n",
       "1                      Sun               10                  AM  \n",
       "2                      Sun               09                  AM  \n",
       "3                      Sun               09                  AM  \n",
       "4                      Sun               09                  AM  "
      ]
     },
     "execution_count": 9,
     "metadata": {},
     "output_type": "execute_result"
    }
   ],
   "source": [
    "#Step 2: Data preparation:\n",
    "\n",
    "#converting review_date to datetime format:\n",
    "data['review_date'] = pd.to_datetime(data['review_date'], dayfirst=True)\n",
    "\n",
    "\n",
    "# Creating new columns based on 'review_date'\n",
    "data['review_date_year'] = data['review_date'].dt.strftime('%Y')\n",
    "data['review_date_month'] = data['review_date'].dt.strftime('%b')  \n",
    "data['review_date_day'] = data['review_date'].dt.strftime('%-d')\n",
    "data['review_date_dayweek_name'] = data['review_date'].dt.strftime('%a')\n",
    "data['review_date_hour'] = data['review_date'].dt.strftime('%H')\n",
    "data['review_date_daytime'] = data['review_date'].dt.strftime('%p')\n",
    "data.head()"
   ]
  },
  {
   "cell_type": "code",
   "execution_count": 10,
   "id": "ff56fa90-cda9-4b96-a1e0-86efe55e5a96",
   "metadata": {},
   "outputs": [
    {
     "data": {
      "text/plain": [
       "source\n",
       "Google Play    36687\n",
       "App Store       3748\n",
       "Name: count, dtype: int64"
      ]
     },
     "execution_count": 10,
     "metadata": {},
     "output_type": "execute_result"
    }
   ],
   "source": [
    "#checking source counts\n",
    "source_counts = data['source'].value_counts()\n",
    "source_counts"
   ]
  },
  {
   "cell_type": "code",
   "execution_count": null,
   "id": "b2df83e9-bb56-4cab-b587-ae94ec8bb300",
   "metadata": {},
   "outputs": [],
   "source": []
  }
 ],
 "metadata": {
  "kernelspec": {
   "display_name": "Python 3 (ipykernel)",
   "language": "python",
   "name": "python3"
  },
  "language_info": {
   "codemirror_mode": {
    "name": "ipython",
    "version": 3
   },
   "file_extension": ".py",
   "mimetype": "text/x-python",
   "name": "python",
   "nbconvert_exporter": "python",
   "pygments_lexer": "ipython3",
   "version": "3.11.7"
  }
 },
 "nbformat": 4,
 "nbformat_minor": 5
}
